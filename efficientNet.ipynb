{
  "nbformat": 4,
  "nbformat_minor": 0,
  "metadata": {
    "colab": {
      "provenance": [],
      "machine_shape": "hm",
      "gpuType": "L4"
    },
    "kernelspec": {
      "name": "python3",
      "display_name": "Python 3"
    },
    "language_info": {
      "name": "python"
    },
    "accelerator": "GPU",
    "widgets": {
      "application/vnd.jupyter.widget-state+json": {
        "e99df0b043744c1dbd72303301f868a7": {
          "model_module": "@jupyter-widgets/controls",
          "model_name": "HBoxModel",
          "model_module_version": "1.5.0",
          "state": {
            "_dom_classes": [],
            "_model_module": "@jupyter-widgets/controls",
            "_model_module_version": "1.5.0",
            "_model_name": "HBoxModel",
            "_view_count": null,
            "_view_module": "@jupyter-widgets/controls",
            "_view_module_version": "1.5.0",
            "_view_name": "HBoxView",
            "box_style": "",
            "children": [
              "IPY_MODEL_009983fce66d4e7390786f76806a88d0",
              "IPY_MODEL_35966b1878ab4193a339b7130067d5b7",
              "IPY_MODEL_3bc0beb2bc6f456ca4f6a5cf8fafe28f"
            ],
            "layout": "IPY_MODEL_35a7e58f0a0046ed9a74d6c4f98f83c3"
          }
        },
        "009983fce66d4e7390786f76806a88d0": {
          "model_module": "@jupyter-widgets/controls",
          "model_name": "HTMLModel",
          "model_module_version": "1.5.0",
          "state": {
            "_dom_classes": [],
            "_model_module": "@jupyter-widgets/controls",
            "_model_module_version": "1.5.0",
            "_model_name": "HTMLModel",
            "_view_count": null,
            "_view_module": "@jupyter-widgets/controls",
            "_view_module_version": "1.5.0",
            "_view_name": "HTMLView",
            "description": "",
            "description_tooltip": null,
            "layout": "IPY_MODEL_5ee4e8711b0141d69cdd9914e80618d7",
            "placeholder": "​",
            "style": "IPY_MODEL_cd18099fff7e47e8ab5a7f612e342025",
            "value": "model.safetensors: 100%"
          }
        },
        "35966b1878ab4193a339b7130067d5b7": {
          "model_module": "@jupyter-widgets/controls",
          "model_name": "FloatProgressModel",
          "model_module_version": "1.5.0",
          "state": {
            "_dom_classes": [],
            "_model_module": "@jupyter-widgets/controls",
            "_model_module_version": "1.5.0",
            "_model_name": "FloatProgressModel",
            "_view_count": null,
            "_view_module": "@jupyter-widgets/controls",
            "_view_module_version": "1.5.0",
            "_view_name": "ProgressView",
            "bar_style": "success",
            "description": "",
            "description_tooltip": null,
            "layout": "IPY_MODEL_477bef7c5e5a427592747b223b9f2409",
            "max": 21355344,
            "min": 0,
            "orientation": "horizontal",
            "style": "IPY_MODEL_073fd60888ed4cd2b4ecb15d0c3b188c",
            "value": 21355344
          }
        },
        "3bc0beb2bc6f456ca4f6a5cf8fafe28f": {
          "model_module": "@jupyter-widgets/controls",
          "model_name": "HTMLModel",
          "model_module_version": "1.5.0",
          "state": {
            "_dom_classes": [],
            "_model_module": "@jupyter-widgets/controls",
            "_model_module_version": "1.5.0",
            "_model_name": "HTMLModel",
            "_view_count": null,
            "_view_module": "@jupyter-widgets/controls",
            "_view_module_version": "1.5.0",
            "_view_name": "HTMLView",
            "description": "",
            "description_tooltip": null,
            "layout": "IPY_MODEL_7029c93937284bf6ab1820808a08b39a",
            "placeholder": "​",
            "style": "IPY_MODEL_e42b4aaf87e846ff9883fae0165aec70",
            "value": " 21.4M/21.4M [00:00&lt;00:00, 162MB/s]"
          }
        },
        "35a7e58f0a0046ed9a74d6c4f98f83c3": {
          "model_module": "@jupyter-widgets/base",
          "model_name": "LayoutModel",
          "model_module_version": "1.2.0",
          "state": {
            "_model_module": "@jupyter-widgets/base",
            "_model_module_version": "1.2.0",
            "_model_name": "LayoutModel",
            "_view_count": null,
            "_view_module": "@jupyter-widgets/base",
            "_view_module_version": "1.2.0",
            "_view_name": "LayoutView",
            "align_content": null,
            "align_items": null,
            "align_self": null,
            "border": null,
            "bottom": null,
            "display": null,
            "flex": null,
            "flex_flow": null,
            "grid_area": null,
            "grid_auto_columns": null,
            "grid_auto_flow": null,
            "grid_auto_rows": null,
            "grid_column": null,
            "grid_gap": null,
            "grid_row": null,
            "grid_template_areas": null,
            "grid_template_columns": null,
            "grid_template_rows": null,
            "height": null,
            "justify_content": null,
            "justify_items": null,
            "left": null,
            "margin": null,
            "max_height": null,
            "max_width": null,
            "min_height": null,
            "min_width": null,
            "object_fit": null,
            "object_position": null,
            "order": null,
            "overflow": null,
            "overflow_x": null,
            "overflow_y": null,
            "padding": null,
            "right": null,
            "top": null,
            "visibility": null,
            "width": null
          }
        },
        "5ee4e8711b0141d69cdd9914e80618d7": {
          "model_module": "@jupyter-widgets/base",
          "model_name": "LayoutModel",
          "model_module_version": "1.2.0",
          "state": {
            "_model_module": "@jupyter-widgets/base",
            "_model_module_version": "1.2.0",
            "_model_name": "LayoutModel",
            "_view_count": null,
            "_view_module": "@jupyter-widgets/base",
            "_view_module_version": "1.2.0",
            "_view_name": "LayoutView",
            "align_content": null,
            "align_items": null,
            "align_self": null,
            "border": null,
            "bottom": null,
            "display": null,
            "flex": null,
            "flex_flow": null,
            "grid_area": null,
            "grid_auto_columns": null,
            "grid_auto_flow": null,
            "grid_auto_rows": null,
            "grid_column": null,
            "grid_gap": null,
            "grid_row": null,
            "grid_template_areas": null,
            "grid_template_columns": null,
            "grid_template_rows": null,
            "height": null,
            "justify_content": null,
            "justify_items": null,
            "left": null,
            "margin": null,
            "max_height": null,
            "max_width": null,
            "min_height": null,
            "min_width": null,
            "object_fit": null,
            "object_position": null,
            "order": null,
            "overflow": null,
            "overflow_x": null,
            "overflow_y": null,
            "padding": null,
            "right": null,
            "top": null,
            "visibility": null,
            "width": null
          }
        },
        "cd18099fff7e47e8ab5a7f612e342025": {
          "model_module": "@jupyter-widgets/controls",
          "model_name": "DescriptionStyleModel",
          "model_module_version": "1.5.0",
          "state": {
            "_model_module": "@jupyter-widgets/controls",
            "_model_module_version": "1.5.0",
            "_model_name": "DescriptionStyleModel",
            "_view_count": null,
            "_view_module": "@jupyter-widgets/base",
            "_view_module_version": "1.2.0",
            "_view_name": "StyleView",
            "description_width": ""
          }
        },
        "477bef7c5e5a427592747b223b9f2409": {
          "model_module": "@jupyter-widgets/base",
          "model_name": "LayoutModel",
          "model_module_version": "1.2.0",
          "state": {
            "_model_module": "@jupyter-widgets/base",
            "_model_module_version": "1.2.0",
            "_model_name": "LayoutModel",
            "_view_count": null,
            "_view_module": "@jupyter-widgets/base",
            "_view_module_version": "1.2.0",
            "_view_name": "LayoutView",
            "align_content": null,
            "align_items": null,
            "align_self": null,
            "border": null,
            "bottom": null,
            "display": null,
            "flex": null,
            "flex_flow": null,
            "grid_area": null,
            "grid_auto_columns": null,
            "grid_auto_flow": null,
            "grid_auto_rows": null,
            "grid_column": null,
            "grid_gap": null,
            "grid_row": null,
            "grid_template_areas": null,
            "grid_template_columns": null,
            "grid_template_rows": null,
            "height": null,
            "justify_content": null,
            "justify_items": null,
            "left": null,
            "margin": null,
            "max_height": null,
            "max_width": null,
            "min_height": null,
            "min_width": null,
            "object_fit": null,
            "object_position": null,
            "order": null,
            "overflow": null,
            "overflow_x": null,
            "overflow_y": null,
            "padding": null,
            "right": null,
            "top": null,
            "visibility": null,
            "width": null
          }
        },
        "073fd60888ed4cd2b4ecb15d0c3b188c": {
          "model_module": "@jupyter-widgets/controls",
          "model_name": "ProgressStyleModel",
          "model_module_version": "1.5.0",
          "state": {
            "_model_module": "@jupyter-widgets/controls",
            "_model_module_version": "1.5.0",
            "_model_name": "ProgressStyleModel",
            "_view_count": null,
            "_view_module": "@jupyter-widgets/base",
            "_view_module_version": "1.2.0",
            "_view_name": "StyleView",
            "bar_color": null,
            "description_width": ""
          }
        },
        "7029c93937284bf6ab1820808a08b39a": {
          "model_module": "@jupyter-widgets/base",
          "model_name": "LayoutModel",
          "model_module_version": "1.2.0",
          "state": {
            "_model_module": "@jupyter-widgets/base",
            "_model_module_version": "1.2.0",
            "_model_name": "LayoutModel",
            "_view_count": null,
            "_view_module": "@jupyter-widgets/base",
            "_view_module_version": "1.2.0",
            "_view_name": "LayoutView",
            "align_content": null,
            "align_items": null,
            "align_self": null,
            "border": null,
            "bottom": null,
            "display": null,
            "flex": null,
            "flex_flow": null,
            "grid_area": null,
            "grid_auto_columns": null,
            "grid_auto_flow": null,
            "grid_auto_rows": null,
            "grid_column": null,
            "grid_gap": null,
            "grid_row": null,
            "grid_template_areas": null,
            "grid_template_columns": null,
            "grid_template_rows": null,
            "height": null,
            "justify_content": null,
            "justify_items": null,
            "left": null,
            "margin": null,
            "max_height": null,
            "max_width": null,
            "min_height": null,
            "min_width": null,
            "object_fit": null,
            "object_position": null,
            "order": null,
            "overflow": null,
            "overflow_x": null,
            "overflow_y": null,
            "padding": null,
            "right": null,
            "top": null,
            "visibility": null,
            "width": null
          }
        },
        "e42b4aaf87e846ff9883fae0165aec70": {
          "model_module": "@jupyter-widgets/controls",
          "model_name": "DescriptionStyleModel",
          "model_module_version": "1.5.0",
          "state": {
            "_model_module": "@jupyter-widgets/controls",
            "_model_module_version": "1.5.0",
            "_model_name": "DescriptionStyleModel",
            "_view_count": null,
            "_view_module": "@jupyter-widgets/base",
            "_view_module_version": "1.2.0",
            "_view_name": "StyleView",
            "description_width": ""
          }
        }
      }
    }
  },
  "cells": [
    {
      "cell_type": "code",
      "execution_count": null,
      "metadata": {
        "id": "XndbQzreH9sV"
      },
      "outputs": [],
      "source": [
        "import torch\n",
        "from torch import nn, Tensor\n",
        "import torch.nn.functional as functional\n",
        "from torchvision.datasets import CIFAR100\n",
        "import pandas as pd\n",
        "from torchvision import transforms\n",
        "from torchvision.transforms import v2, AutoAugment, AutoAugmentPolicy\n",
        "from torch.backends import cudnn\n",
        "from torch import GradScaler\n",
        "from torch import optim\n",
        "from tqdm import tqdm\n",
        "import time\n",
        "import matplotlib.pyplot as plt\n",
        "from PIL import Image\n",
        "from torch.utils.data import Dataset, DataLoader, ConcatDataset\n",
        "from timm import create_model\n",
        "import os"
      ]
    },
    {
      "cell_type": "code",
      "source": [
        "\n",
        "os.environ['TF_ENABLE_ONEDNN_OPTS'] = '0'\n",
        "cudnn.benchmark = True\n",
        "\n",
        "\n",
        "class CachedDataset(Dataset):\n",
        "    def __init__(self, dataset, transform=None):\n",
        "        self.data = [(image, label) for image, label in dataset]\n",
        "        self.transform = transform\n",
        "\n",
        "    def __len__(self):\n",
        "        return len(self.data)\n",
        "\n",
        "    def __getitem__(self, index):\n",
        "        image, label = self.data[index]\n",
        "        if self.transform:\n",
        "            image = self.transform(image)\n",
        "        return image, label\n",
        "\n",
        "\n",
        "class CIFAR100N(Dataset):\n",
        "    def __init__(self, root, transform=None, noisy_labels=None):\n",
        "        self.cifar100 = CIFAR100(root=root, train=True, download=True, transform=transform)\n",
        "        self.noisy_labels = noisy_labels\n",
        "\n",
        "    def __len__(self):\n",
        "        return len(self.cifar100)\n",
        "\n",
        "    def __getitem__(self, idx):\n",
        "        image, _ = self.cifar100[idx]\n",
        "        label = self.noisy_labels[idx]\n",
        "        return image, label"
      ],
      "metadata": {
        "id": "uNUwBM7bIAXM"
      },
      "execution_count": null,
      "outputs": []
    },
    {
      "cell_type": "code",
      "source": [
        "def create_plots():\n",
        "    epochs_range = list(range(1, EPOC + 1))\n",
        "\n",
        "    plt.figure(figsize=(12, 5))\n",
        "    plt.subplot(1, 2, 1)\n",
        "    plt.plot(epochs_range, train_accuracies, label=\"Train Accuracy\", marker='o')\n",
        "    plt.plot(epochs_range, val_accuracies, label=\"Validation Accuracy\", marker='x')\n",
        "    plt.title(\"Training and Validation Accuracy\")\n",
        "    plt.xlabel(\"Epochs\")\n",
        "    plt.ylabel(\"Accuracy (%)\")\n",
        "    plt.legend()\n",
        "    plt.grid()\n",
        "\n",
        "    plt.subplot(1, 2, 2)\n",
        "    plt.plot(epochs_range, train_losses, label=\"Train Loss\", marker='o')\n",
        "    plt.plot(epochs_range, val_losses, label=\"Validation Loss\", marker='x')\n",
        "    plt.title(\"Training and Validation Loss\")\n",
        "    plt.xlabel(\"Epochs\")\n",
        "    plt.ylabel(\"Loss\")\n",
        "    plt.legend()\n",
        "    plt.grid()\n",
        "\n",
        "    plt.tight_layout()\n",
        "    plt.show()"
      ],
      "metadata": {
        "id": "iol7pSiEIAmh"
      },
      "execution_count": null,
      "outputs": []
    },
    {
      "cell_type": "code",
      "source": [
        "if __name__ == '__main__':\n",
        "    noise_file_path = './drive/MyDrive/data/CIFAR-100_human.pt'\n",
        "    noise_data = torch.load(noise_file_path)\n",
        "    noisy_labels = noise_data['noisy_label']\n",
        "\n",
        "    train_transform = transforms.Compose([\n",
        "        transforms.Resize((224, 224)),\n",
        "        transforms.RandomCrop(224, padding=4),\n",
        "        # transforms.RandomCrop(40, padding=4),\n",
        "        # transforms.RandomHorizontalFlip(),\n",
        "        # transforms.ColorJitter(brightness=0.2, contrast=0.2, saturation=0.2, hue=0.1),\n",
        "        # transforms.RandomRotation(15),\n",
        "        transforms.ToTensor(),\n",
        "        transforms.Normalize((0.5071, 0.4867, 0.4408), (0.2675, 0.2565, 0.2761))\n",
        "    ])\n",
        "\n",
        "    test_transform = transforms.Compose([\n",
        "        transforms.Resize((224, 224)),\n",
        "        transforms.ToTensor(),\n",
        "        transforms.Normalize((0.5071, 0.4867, 0.4408), (0.2675, 0.2565, 0.2761))\n",
        "    ])\n",
        "\n",
        "    train_set = CIFAR100N(\n",
        "        root='./drive/MyDrive/data',\n",
        "        transform=train_transform,\n",
        "        noisy_labels=noisy_labels\n",
        "    )\n",
        "\n",
        "    test_set = CIFAR100(\n",
        "        root='./drive/MyDrive/data',\n",
        "        train=False,\n",
        "        download=True,\n",
        "        transform=test_transform\n",
        "    )\n",
        "\n",
        "    # print(\"Caching training dataset...\")\n",
        "    # train_set = CachedDataset(train_set)\n",
        "    # print(\"Caching completed!\")\n",
        "    #\n",
        "    # print(\"Caching testing dataset...\")\n",
        "    # test_set = CachedDataset(test_set)\n",
        "    # print(\"Caching completed!\")\n",
        "\n",
        "    # print(\"Verifying noisy labels in training set...\")\n",
        "    # for i in range(5):\n",
        "    #     image, noisy_label = train_set[i]\n",
        "    #     clean_label = train_set.cifar100.targets[i]\n",
        "    #     print(f\"Index {i}: Clean Label: {clean_label}, Noisy Label: {noisy_label}\")\n",
        "\n",
        "    # for i in range(5):\n",
        "    #     image, label = train_set[i]\n",
        "    #     print(f\"Image shape after transform: {image.shape}, Label: {label}\")\n",
        "\n",
        "    assert len(train_set) == 50000, \"Dataset length mismatch!\"\n",
        "\n",
        "    for i in range(5):\n",
        "        clean_label = train_set.cifar100.targets[i]  # Clean label\n",
        "        noisy_label = train_set.noisy_labels[i]  # Noisy label\n",
        "        print(f\"Index {i}: Clean Label: {clean_label}, Noisy Label: {noisy_label}\")\n",
        "        # assert clean_label != noisy_label, f\"Clean and noisy labels are identical at index {i}!\"\n",
        "\n",
        "    train_loader = DataLoader(train_set, batch_size=256, shuffle=True)\n",
        "\n",
        "    # print(\"\\nVerifying noisy labels in DataLoader batches...\")\n",
        "    # for batch_idx, (inputs, noisy_labels) in enumerate(train_loader):\n",
        "    #     clean_labels = torch.tensor([train_set.cifar100.targets[idx] for idx in range(len(noisy_labels))])\n",
        "    #     print(f\"Batch {batch_idx} - First 5 Clean Labels: {clean_labels[:5]}\")\n",
        "    #     print(f\"Batch {batch_idx} - First 5 Noisy Labels: {noisy_labels[:5]}\")\n",
        "    #     break\n",
        "\n",
        "    test_loader = DataLoader(test_set, batch_size=256)\n",
        "\n",
        "    EPOC = 10\n",
        "    import torch\n",
        "    import torch.nn as nn\n",
        "\n",
        "    # model = create_model(\"resnet18\", pretrained=True, num_classes=100)\n",
        "    model = create_model(\"efficientnet_b0\", pretrained=True, num_classes=100)\n",
        "    # model = create_model(\"resnet34\", pretrained=True, num_classes=100)\n",
        "\n",
        "    print(model.pretrained_cfg)\n",
        "\n",
        "    # model = model.to('cuda')\n",
        "\n",
        "\n",
        "    class SymmetricCrossEntropy(nn.Module):\n",
        "        def __init__(self, alpha=0.1, beta=1.0):\n",
        "            super().__init__()\n",
        "            self.alpha = alpha\n",
        "            self.beta = beta\n",
        "            self.ce = nn.CrossEntropyLoss()\n",
        "\n",
        "        def forward(self, preds, targets):\n",
        "            ce_loss = self.ce(preds, targets)\n",
        "            preds_softmax = torch.softmax(preds, dim=1)\n",
        "            rce_loss = -torch.mean(torch.sum(preds_softmax * torch.log(preds_softmax + 1e-12), dim=1))\n",
        "            return self.alpha * ce_loss + self.beta * rce_loss\n",
        "\n",
        "\n",
        "    # criterion = SymmetricCrossEntropy(alpha=0.1, beta=1.0)\n",
        "\n",
        "    criterion = nn.CrossEntropyLoss()\n",
        "    optimizer = torch.optim.AdamW(model.parameters(), lr=0.001, weight_decay=0.0001)\n",
        "    scheduler = torch.optim.lr_scheduler.CosineAnnealingLR(optimizer, T_max=EPOC)\n",
        "\n",
        "    train_accuracies = []\n",
        "    val_accuracies = []\n",
        "    train_losses = []\n",
        "    val_losses = []\n",
        "\n",
        "    cutMix = v2.CutMix(num_classes=100, alpha=1.0)\n",
        "    mixUp = v2.MixUp(num_classes=100, alpha=1.0)\n",
        "\n",
        "    rand_choice = v2.RandomChoice([cutMix, mixUp])\n",
        "\n",
        "    device = torch.device('cuda' if torch.cuda.is_available() else 'cpu')\n",
        "    model = model.to(device)\n",
        "\n",
        "\n",
        "    # scaler = GradScaler(enabled=torch.cuda.is_available())\n",
        "    # enable_half\n",
        "    # = torch.cuda.is_available()\n",
        "\n",
        "    def train_one_epoch(epoch):\n",
        "        model.train()\n",
        "        correct, total, total_loss = 0, 0, 0.0\n",
        "\n",
        "        batch_bar = tqdm(train_loader, desc=f\"Epoch {epoch + 1}\")\n",
        "\n",
        "        for inputs, targets in batch_bar:\n",
        "            inputs, targets = inputs.to(device), targets.to(device)\n",
        "            inputs, targets = rand_choice(inputs, targets)\n",
        "\n",
        "            outputs = model(inputs)\n",
        "            loss = criterion(outputs, targets)\n",
        "\n",
        "            loss.backward()\n",
        "            optimizer.step()\n",
        "            optimizer.zero_grad()\n",
        "\n",
        "            total_loss += loss.item() * inputs.size(0)\n",
        "            predicted = outputs.argmax(1)\n",
        "            total += targets.size(0)\n",
        "            correct += predicted.eq(targets.argmax(1)).sum().item()\n",
        "\n",
        "            avg_loss = total_loss / total\n",
        "            accuracy = 100.0 * correct / total\n",
        "            batch_bar.set_postfix({\n",
        "                \"Batch Loss\": f\"{loss.item():.4f}\",\n",
        "                \"Epoch Loss\": f\"{avg_loss:.4f}\",\n",
        "                \"Accuracy\": f\"{accuracy:.2f}%\"\n",
        "            })\n",
        "\n",
        "        avg_loss = total_loss / total\n",
        "        accuracy = 100.0 * correct / total\n",
        "        return accuracy, avg_loss\n",
        "\n",
        "\n",
        "    @torch.no_grad()\n",
        "    def evaluate():\n",
        "        model.eval()\n",
        "        correct = 0\n",
        "        total = 0\n",
        "        total_loss = 0.0\n",
        "\n",
        "        for inputs, targets in test_loader:\n",
        "            inputs, targets = inputs.to(device, non_blocking=True), targets.to(device, non_blocking=True)\n",
        "            outputs = model(inputs)\n",
        "            loss = criterion(outputs, targets)\n",
        "\n",
        "            total_loss += loss.item() * inputs.size(0)\n",
        "            predicted = outputs.argmax(1)\n",
        "            total += targets.size(0)\n",
        "            correct += predicted.eq(targets).sum().item()\n",
        "\n",
        "        avg_loss = total_loss / total\n",
        "        accuracy = 100.0 * correct / total\n",
        "        return accuracy, avg_loss\n",
        "\n",
        "\n",
        "    # Training Loop\n",
        "    best_model_state = model.state_dict()\n",
        "    best_val_accuracy = 0.0\n",
        "\n",
        "    print(\"Starting training...\")\n",
        "    for epoch in range(EPOC):\n",
        "        train_acc, train_loss = train_one_epoch(epoch)\n",
        "        val_acc, val_loss = evaluate()\n",
        "\n",
        "        train_accuracies.append(train_acc)\n",
        "        train_losses.append(train_loss)\n",
        "        val_accuracies.append(val_acc)\n",
        "        val_losses.append(val_loss)\n",
        "\n",
        "        scheduler.step()\n",
        "\n",
        "        if val_acc > best_val_accuracy:\n",
        "            best_val_accuracy = val_acc\n",
        "            best_model_state = model.state_dict()\n",
        "\n",
        "        print(\n",
        "            f\"Epoch {epoch + 1}/{EPOC} - Train Acc: {train_acc:.2f}%, Val Acc: {val_acc:.2f}%, Best Val Acc: {best_val_accuracy:.2f}%\")\n",
        "        print()\n",
        "\n",
        "    torch.save(best_model_state, \"best_model_2.pth\")\n",
        "\n",
        "    create_plots()"
      ],
      "metadata": {
        "colab": {
          "base_uri": "https://localhost:8080/",
          "height": 1000,
          "referenced_widgets": [
            "e99df0b043744c1dbd72303301f868a7",
            "009983fce66d4e7390786f76806a88d0",
            "35966b1878ab4193a339b7130067d5b7",
            "3bc0beb2bc6f456ca4f6a5cf8fafe28f",
            "35a7e58f0a0046ed9a74d6c4f98f83c3",
            "5ee4e8711b0141d69cdd9914e80618d7",
            "cd18099fff7e47e8ab5a7f612e342025",
            "477bef7c5e5a427592747b223b9f2409",
            "073fd60888ed4cd2b4ecb15d0c3b188c",
            "7029c93937284bf6ab1820808a08b39a",
            "e42b4aaf87e846ff9883fae0165aec70"
          ]
        },
        "id": "FW_qaxSqIA15",
        "outputId": "02f7b4c3-4f5f-4ddb-a380-601d59fbe20f"
      },
      "execution_count": null,
      "outputs": [
        {
          "output_type": "stream",
          "name": "stderr",
          "text": [
            "<ipython-input-4-875dd6207352>:3: FutureWarning: You are using `torch.load` with `weights_only=False` (the current default value), which uses the default pickle module implicitly. It is possible to construct malicious pickle data which will execute arbitrary code during unpickling (See https://github.com/pytorch/pytorch/blob/main/SECURITY.md#untrusted-models for more details). In a future release, the default value for `weights_only` will be flipped to `True`. This limits the functions that could be executed during unpickling. Arbitrary objects will no longer be allowed to be loaded via this mode unless they are explicitly allowlisted by the user via `torch.serialization.add_safe_globals`. We recommend you start setting `weights_only=True` for any use case where you don't have full control of the loaded file. Please open an issue on GitHub for any issues related to this experimental feature.\n",
            "  noise_data = torch.load(noise_file_path)\n"
          ]
        },
        {
          "output_type": "stream",
          "name": "stdout",
          "text": [
            "Files already downloaded and verified\n",
            "Files already downloaded and verified\n",
            "Index 0: Clean Label: 19, Noisy Label: 19\n",
            "Index 1: Clean Label: 29, Noisy Label: 63\n",
            "Index 2: Clean Label: 0, Noisy Label: 10\n",
            "Index 3: Clean Label: 11, Noisy Label: 11\n",
            "Index 4: Clean Label: 1, Noisy Label: 1\n"
          ]
        },
        {
          "output_type": "stream",
          "name": "stderr",
          "text": [
            "/usr/local/lib/python3.10/dist-packages/huggingface_hub/utils/_auth.py:94: UserWarning: \n",
            "The secret `HF_TOKEN` does not exist in your Colab secrets.\n",
            "To authenticate with the Hugging Face Hub, create a token in your settings tab (https://huggingface.co/settings/tokens), set it as secret in your Google Colab and restart your session.\n",
            "You will be able to reuse this secret in all of your notebooks.\n",
            "Please note that authentication is recommended but still optional to access public models or datasets.\n",
            "  warnings.warn(\n"
          ]
        },
        {
          "output_type": "display_data",
          "data": {
            "text/plain": [
              "model.safetensors:   0%|          | 0.00/21.4M [00:00<?, ?B/s]"
            ],
            "application/vnd.jupyter.widget-view+json": {
              "version_major": 2,
              "version_minor": 0,
              "model_id": "e99df0b043744c1dbd72303301f868a7"
            }
          },
          "metadata": {}
        },
        {
          "output_type": "stream",
          "name": "stdout",
          "text": [
            "{'url': 'https://github.com/rwightman/pytorch-image-models/releases/download/v0.1-weights/efficientnet_b0_ra-3dd342df.pth', 'hf_hub_id': 'timm/efficientnet_b0.ra_in1k', 'architecture': 'efficientnet_b0', 'tag': 'ra_in1k', 'custom_load': False, 'input_size': (3, 224, 224), 'fixed_input_size': False, 'interpolation': 'bicubic', 'crop_pct': 0.875, 'crop_mode': 'center', 'mean': (0.485, 0.456, 0.406), 'std': (0.229, 0.224, 0.225), 'num_classes': 1000, 'pool_size': (7, 7), 'first_conv': 'conv_stem', 'classifier': 'classifier'}\n",
            "Starting training...\n"
          ]
        },
        {
          "output_type": "stream",
          "name": "stderr",
          "text": [
            "Epoch 1: 100%|██████████| 196/196 [04:08<00:00,  1.27s/it, Batch Loss=3.4505, Epoch Loss=3.3108, Accuracy=32.38%]\n"
          ]
        },
        {
          "output_type": "stream",
          "name": "stdout",
          "text": [
            "Epoch 1/10 - Train Acc: 32.38%, Val Acc: 62.25%, Best Val Acc: 62.25%\n",
            "\n"
          ]
        },
        {
          "output_type": "stream",
          "name": "stderr",
          "text": [
            "Epoch 2: 100%|██████████| 196/196 [04:01<00:00,  1.23s/it, Batch Loss=3.4138, Epoch Loss=2.8862, Accuracy=44.19%]\n"
          ]
        },
        {
          "output_type": "stream",
          "name": "stdout",
          "text": [
            "Epoch 2/10 - Train Acc: 44.19%, Val Acc: 66.05%, Best Val Acc: 66.05%\n",
            "\n"
          ]
        },
        {
          "output_type": "stream",
          "name": "stderr",
          "text": [
            "Epoch 3: 100%|██████████| 196/196 [04:01<00:00,  1.23s/it, Batch Loss=3.4594, Epoch Loss=2.7873, Accuracy=46.58%]\n"
          ]
        },
        {
          "output_type": "stream",
          "name": "stdout",
          "text": [
            "Epoch 3/10 - Train Acc: 46.58%, Val Acc: 67.82%, Best Val Acc: 67.82%\n",
            "\n"
          ]
        },
        {
          "output_type": "stream",
          "name": "stderr",
          "text": [
            "Epoch 4: 100%|██████████| 196/196 [04:01<00:00,  1.23s/it, Batch Loss=3.2357, Epoch Loss=2.6714, Accuracy=48.39%]\n"
          ]
        },
        {
          "output_type": "stream",
          "name": "stdout",
          "text": [
            "Epoch 4/10 - Train Acc: 48.39%, Val Acc: 68.77%, Best Val Acc: 68.77%\n",
            "\n"
          ]
        },
        {
          "output_type": "stream",
          "name": "stderr",
          "text": [
            "Epoch 5: 100%|██████████| 196/196 [03:59<00:00,  1.22s/it, Batch Loss=2.0971, Epoch Loss=2.5056, Accuracy=53.03%]\n"
          ]
        },
        {
          "output_type": "stream",
          "name": "stdout",
          "text": [
            "Epoch 5/10 - Train Acc: 53.03%, Val Acc: 69.25%, Best Val Acc: 69.25%\n",
            "\n"
          ]
        },
        {
          "output_type": "stream",
          "name": "stderr",
          "text": [
            "Epoch 6: 100%|██████████| 196/196 [04:01<00:00,  1.23s/it, Batch Loss=2.8811, Epoch Loss=2.4906, Accuracy=53.94%]\n"
          ]
        },
        {
          "output_type": "stream",
          "name": "stdout",
          "text": [
            "Epoch 6/10 - Train Acc: 53.94%, Val Acc: 70.00%, Best Val Acc: 70.00%\n",
            "\n"
          ]
        },
        {
          "output_type": "stream",
          "name": "stderr",
          "text": [
            "Epoch 7: 100%|██████████| 196/196 [04:01<00:00,  1.23s/it, Batch Loss=2.8911, Epoch Loss=2.3988, Accuracy=55.26%]\n"
          ]
        },
        {
          "output_type": "stream",
          "name": "stdout",
          "text": [
            "Epoch 7/10 - Train Acc: 55.26%, Val Acc: 70.10%, Best Val Acc: 70.10%\n",
            "\n"
          ]
        },
        {
          "output_type": "stream",
          "name": "stderr",
          "text": [
            "Epoch 8: 100%|██████████| 196/196 [04:01<00:00,  1.23s/it, Batch Loss=2.5049, Epoch Loss=2.3224, Accuracy=58.33%]\n"
          ]
        },
        {
          "output_type": "stream",
          "name": "stdout",
          "text": [
            "Epoch 8/10 - Train Acc: 58.33%, Val Acc: 70.49%, Best Val Acc: 70.49%\n",
            "\n"
          ]
        },
        {
          "output_type": "stream",
          "name": "stderr",
          "text": [
            "Epoch 9: 100%|██████████| 196/196 [04:01<00:00,  1.23s/it, Batch Loss=2.7436, Epoch Loss=2.1990, Accuracy=61.31%]\n"
          ]
        },
        {
          "output_type": "stream",
          "name": "stdout",
          "text": [
            "Epoch 9/10 - Train Acc: 61.31%, Val Acc: 71.00%, Best Val Acc: 71.00%\n",
            "\n"
          ]
        },
        {
          "output_type": "stream",
          "name": "stderr",
          "text": [
            "Epoch 10: 100%|██████████| 196/196 [04:01<00:00,  1.23s/it, Batch Loss=1.6007, Epoch Loss=2.1212, Accuracy=62.84%]\n"
          ]
        },
        {
          "output_type": "stream",
          "name": "stdout",
          "text": [
            "Epoch 10/10 - Train Acc: 62.84%, Val Acc: 70.56%, Best Val Acc: 71.00%\n",
            "\n"
          ]
        },
        {
          "output_type": "display_data",
          "data": {
            "text/plain": [
              "<Figure size 1200x500 with 2 Axes>"
            ],
            "image/png": "[encoded data removed]"
          },
          "metadata": {}
        }
      ]
    }
  ]
}