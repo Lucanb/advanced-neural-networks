{
  "cells": [
    {
      "cell_type": "code",
      "execution_count": 1,
      "metadata": {
        "id": "JBAbSDR1L-TY"
      },
      "outputs": [],
      "source": [
        "import torch\n",
        "from torch import nn, Tensor\n",
        "from torch.utils.data import Dataset, DataLoader\n",
        "from torchvision.datasets import CIFAR100\n",
        "from typing import Optional, Callable\n",
        "import os\n",
        "import timm\n",
        "import numpy as np\n",
        "import pandas as pd\n",
        "from torchvision import transforms\n",
        "from torch.backends import cudnn\n",
        "from torch import GradScaler\n",
        "from torch import optim\n",
        "from tqdm import tqdm"
      ]
    },
    {
      "cell_type": "code",
      "execution_count": 2,
      "metadata": {
        "id": "X8o55z5jL-Ta"
      },
      "outputs": [],
      "source": [
        "device = torch.device('cuda')"
      ]
    },
    {
      "cell_type": "code",
      "execution_count": 3,
      "metadata": {
        "id": "iMObVOlUL-Tb"
      },
      "outputs": [],
      "source": [
        "cudnn.benchmark = True\n",
        "pin_memory = True\n",
        "enable_half = True\n",
        "scaler = GradScaler(device, enabled=enable_half)"
      ]
    },
    {
      "cell_type": "code",
      "execution_count": 4,
      "metadata": {
        "colab": {
          "base_uri": "https://localhost:8080/"
        },
        "id": "7ohB6WSDWBFa",
        "outputId": "259f5a66-79ae-42b0-f726-2bb3f88bdd06"
      },
      "outputs": [
        {
          "output_type": "stream",
          "name": "stdout",
          "text": [
            "Mounted at /content/drive\n"
          ]
        }
      ],
      "source": [
        "from google.colab import drive\n",
        "drive.mount('/content/drive')"
      ]
    },
    {
      "cell_type": "code",
      "execution_count": 5,
      "metadata": {
        "id": "YBQ623NOL-Tb"
      },
      "outputs": [],
      "source": [
        "class SimpleCachedDataset(Dataset):\n",
        "    def __init__(self, dataset):\n",
        "        self.data = tuple([x for x in dataset])\n",
        "\n",
        "    def __len__(self):\n",
        "        return len(self.data)\n",
        "\n",
        "    def __getitem__(self, i):\n",
        "        return self.data[i]"
      ]
    },
    {
      "cell_type": "code",
      "execution_count": 6,
      "metadata": {
        "id": "r8DzO9c0L-Tb"
      },
      "outputs": [],
      "source": [
        "class CIFAR100_noisy_fine(Dataset):\n",
        "    \"\"\"\n",
        "    See https://github.com/UCSC-REAL/cifar-10-100n, https://www.noisylabels.com/ and `Learning with Noisy Labels\n",
        "    Revisited: A Study Using Real-World Human Annotations`.\n",
        "    \"\"\"\n",
        "\n",
        "    def __init__(\n",
        "        self, root: str, train: bool, transform: Optional[Callable], download: bool\n",
        "    ):\n",
        "        cifar100 = CIFAR100(\n",
        "            root=root, train=train, transform=transform, download=download\n",
        "        )\n",
        "        data, targets = tuple(zip(*cifar100))\n",
        "\n",
        "        if train:\n",
        "            noisy_label_file = os.path.join(root, \"CIFAR-100-noisy.npz\")\n",
        "            if not os.path.isfile(noisy_label_file):\n",
        "                raise FileNotFoundError(\n",
        "                    f\"{type(self).__name__} need {noisy_label_file} to be used!\"\n",
        "                )\n",
        "\n",
        "            noise_file = np.load(noisy_label_file)\n",
        "            if not np.array_equal(noise_file[\"clean_label\"], targets):\n",
        "                raise RuntimeError(\"Clean labels do not match!\")\n",
        "            targets = noise_file[\"noisy_label\"]\n",
        "\n",
        "        self.data = data\n",
        "        self.targets = targets\n",
        "\n",
        "    def __len__(self):\n",
        "        return len(self.targets)\n",
        "\n",
        "    def __getitem__(self, i: int):\n",
        "        return self.data[i], self.targets[i]"
      ]
    },
    {
      "cell_type": "code",
      "execution_count": 7,
      "metadata": {
        "colab": {
          "base_uri": "https://localhost:8080/"
        },
        "id": "eleg_XkvL-Tc",
        "outputId": "13a727f0-a389-4d8d-d20b-5a5a23ff6a1d"
      },
      "outputs": [
        {
          "output_type": "stream",
          "name": "stdout",
          "text": [
            "Files already downloaded and verified\n"
          ]
        },
        {
          "output_type": "stream",
          "name": "stderr",
          "text": [
            "<ipython-input-7-c8a0f2ba28e0>:5: FutureWarning: You are using `torch.load` with `weights_only=False` (the current default value), which uses the default pickle module implicitly. It is possible to construct malicious pickle data which will execute arbitrary code during unpickling (See https://github.com/pytorch/pytorch/blob/main/SECURITY.md#untrusted-models for more details). In a future release, the default value for `weights_only` will be flipped to `True`. This limits the functions that could be executed during unpickling. Arbitrary objects will no longer be allowed to be loaded via this mode unless they are explicitly allowlisted by the user via `torch.serialization.add_safe_globals`. We recommend you start setting `weights_only=True` for any use case where you don't have full control of the loaded file. Please open an issue on GitHub for any issues related to this experimental feature.\n",
            "  noise_data = torch.load(noise_file)\n"
          ]
        },
        {
          "output_type": "stream",
          "name": "stdout",
          "text": [
            "Files already downloaded and verified\n"
          ]
        }
      ],
      "source": [
        "class CIFAR100N(Dataset):\n",
        "\n",
        "    def __init__(self, root, transform=None, noise_file='./drive/MyDrive/data/CIFAR-100_human.pt'):\n",
        "        self.cifar100 = CIFAR100(root=root, train=True, download=True, transform=transform)\n",
        "        noise_data = torch.load(noise_file)\n",
        "        self.labels = noise_data['noisy_label']\n",
        "\n",
        "    def __len__(self):\n",
        "        return len(self.cifar100)\n",
        "\n",
        "    def __getitem__(self, idx):\n",
        "        image, _ = self.cifar100[idx]\n",
        "        label = self.labels[idx]\n",
        "        return image, label\n",
        "\n",
        "transform = transforms.Compose([\n",
        "  transforms.Resize(224),\n",
        "  transforms.RandomCrop(224, padding=4),\n",
        "  transforms.RandomHorizontalFlip(),\n",
        "  transforms.ToTensor(),\n",
        "  transforms.Normalize((0.5071, 0.4867, 0.4408), (0.2675, 0.2565, 0.2761))\n",
        "])\n",
        "train_dataset = CIFAR100N(root='./drive/MyDrive/data', transform=transform, noise_file='./drive/MyDrive/data/CIFAR-100_human.pt')\n",
        "test_dataset = CIFAR100(root='./drive/MyDrive/data', train=False, download=True, transform=transform)\n",
        "\n",
        "train_loader = DataLoader(train_dataset, batch_size=128, shuffle=True, pin_memory=True, num_workers=4,\n",
        "                        persistent_workers=True, prefetch_factor=2)\n",
        "test_loader = DataLoader(test_dataset, batch_size=128, shuffle=False, pin_memory=True, num_workers=4,\n",
        "                       persistent_workers=True, prefetch_factor=2)"
      ]
    },
    {
      "cell_type": "code",
      "execution_count": 8,
      "metadata": {
        "colab": {
          "base_uri": "https://localhost:8080/",
          "height": 153,
          "referenced_widgets": [
            "71883ee299304b90a571d1f77919cd49",
            "3e4b60fce4b041568cf30f5599969a36",
            "99c37e7a25114e64a003e1891da8d8c9",
            "95003c737fb145498adbd1b2876f5ecd",
            "7da7a377018648cbbb0fd8df892bd99e",
            "ab5607fc34604b16a4d08e662ad62376",
            "c4365a4ecadc4ab09d4c7a1e214bd25d",
            "8eee0e8e658f4690ae9951adc17c4d76",
            "9bd7f4b3068f45d38d42f2b4ad1cc9c2",
            "59ee62b57cef412683d40513d31e64db",
            "7215aee1b928408980e2a8e36ea6155a"
          ]
        },
        "id": "kiTtjBqsL-Td",
        "outputId": "a777fe25-3437-450e-80da-77b3fdb3de36"
      },
      "outputs": [
        {
          "output_type": "stream",
          "name": "stderr",
          "text": [
            "/usr/local/lib/python3.10/dist-packages/huggingface_hub/utils/_auth.py:94: UserWarning: \n",
            "The secret `HF_TOKEN` does not exist in your Colab secrets.\n",
            "To authenticate with the Hugging Face Hub, create a token in your settings tab (https://huggingface.co/settings/tokens), set it as secret in your Google Colab and restart your session.\n",
            "You will be able to reuse this secret in all of your notebooks.\n",
            "Please note that authentication is recommended but still optional to access public models or datasets.\n",
            "  warnings.warn(\n"
          ]
        },
        {
          "output_type": "display_data",
          "data": {
            "text/plain": [
              "model.safetensors:   0%|          | 0.00/346M [00:00<?, ?B/s]"
            ],
            "application/vnd.jupyter.widget-view+json": {
              "version_major": 2,
              "version_minor": 0,
              "model_id": "71883ee299304b90a571d1f77919cd49"
            }
          },
          "metadata": {}
        }
      ],
      "source": [
        "model = timm.create_model(\"timm/vit_base_patch16_224.orig_in21k_ft_in1k\",pretrained=True)\n",
        "model.fc = nn.Linear(512, 100)\n",
        "model = model.to(device)\n",
        "criterion = nn.CrossEntropyLoss()\n",
        "optimizer = optim.SGD(model.parameters(), lr=0.001, fused=True)"
      ]
    },
    {
      "cell_type": "code",
      "execution_count": 9,
      "metadata": {
        "id": "85lhObvxL-Td"
      },
      "outputs": [],
      "source": [
        "def train():\n",
        "    model.train()\n",
        "    correct = 0\n",
        "    total = 0\n",
        "\n",
        "    for inputs, targets in train_loader:\n",
        "        inputs, targets = inputs.to(device, non_blocking=True), targets.to(device, non_blocking=True)\n",
        "        with torch.autocast(device.type, enabled=enable_half):\n",
        "            outputs = model(inputs)\n",
        "            loss = criterion(outputs, targets)\n",
        "        scaler.scale(loss).backward()\n",
        "        scaler.step(optimizer)\n",
        "        scaler.update()\n",
        "        optimizer.zero_grad()\n",
        "\n",
        "        predicted = outputs.argmax(1)\n",
        "        total += targets.size(0)\n",
        "        correct += predicted.eq(targets).sum().item()\n",
        "\n",
        "    return 100.0 * correct / total"
      ]
    },
    {
      "cell_type": "code",
      "execution_count": 10,
      "metadata": {
        "id": "knzlwcYzL-Td"
      },
      "outputs": [],
      "source": [
        "@torch.inference_mode()\n",
        "def val():\n",
        "    model.eval()\n",
        "    correct = 0\n",
        "    total = 0\n",
        "\n",
        "    for inputs, targets in test_loader:\n",
        "        inputs, targets = inputs.to(device, non_blocking=True), targets.to(device, non_blocking=True)\n",
        "        with torch.autocast(device.type, enabled=enable_half):\n",
        "            outputs = model(inputs)\n",
        "\n",
        "        predicted = outputs.argmax(1)\n",
        "        total += targets.size(0)\n",
        "        correct += predicted.eq(targets).sum().item()\n",
        "\n",
        "    return 100.0 * correct / total"
      ]
    },
    {
      "cell_type": "code",
      "execution_count": 11,
      "metadata": {
        "id": "JUdnIpaEL-Td"
      },
      "outputs": [],
      "source": [
        "@torch.inference_mode()\n",
        "def inference():\n",
        "    model.eval()\n",
        "\n",
        "    labels = []\n",
        "\n",
        "    for inputs, _ in test_loader:\n",
        "        inputs = inputs.to(device, non_blocking=True)\n",
        "        with torch.autocast(device.type, enabled=enable_half):\n",
        "            outputs = model(inputs)\n",
        "\n",
        "        predicted = outputs.argmax(1).tolist()\n",
        "        labels.extend(predicted)\n",
        "\n",
        "    return labels"
      ]
    },
    {
      "cell_type": "code",
      "execution_count": null,
      "metadata": {
        "colab": {
          "background_save": true,
          "base_uri": "https://localhost:8080/"
        },
        "id": "sBivm7hIL-Te",
        "outputId": "e642cb5e-09f8-411d-f8ff-6af58558fa45"
      },
      "outputs": [
        {
          "name": "stderr",
          "output_type": "stream",
          "text": [
            "Train: 26.36, Val: 29.84, Best: 29.84: 100%|██████████| 10/10 [1:12:08<00:00, 432.88s/it]\n"
          ]
        }
      ],
      "source": [
        "best = 0.0\n",
        "epochs = list(range(10))\n",
        "with tqdm(epochs) as tbar:\n",
        "    for epoch in tbar:\n",
        "        train_acc = train()\n",
        "        val_acc = val()\n",
        "        if val_acc > best:\n",
        "            best = val_acc\n",
        "        tbar.set_description(f\"Train: {train_acc:.2f}, Val: {val_acc:.2f}, Best: {best:.2f}\")\n",
        "\n",
        "data = {\n",
        "    \"ID\": [],\n",
        "    \"target\": []\n",
        "}\n",
        "\n",
        "\n",
        "for i, label in enumerate(inference()):\n",
        "    data[\"ID\"].append(i)\n",
        "    data[\"target\"].append(label)\n",
        "\n",
        "df = pd.DataFrame(data)\n",
        "df.to_csv(\"submission.csv\", index=False)"
      ]
    },
    {
      "cell_type": "code",
      "source": [
        "def get_lr(epoch, base_lr=0.001, warmup_epochs=5):\n",
        "    if epoch < warmup_epochs:\n",
        "        return base_lr * (epoch + 1) / warmup_epochs\n",
        "    return base_lr"
      ],
      "metadata": {
        "id": "T4DhmJ-qCn8d"
      },
      "execution_count": 12,
      "outputs": []
    },
    {
      "cell_type": "code",
      "source": [
        "def train(epoch):\n",
        "    model.train()\n",
        "    correct = 0\n",
        "    total = 0\n",
        "\n",
        "    lr = get_lr(epoch)\n",
        "    for param_group in optimizer.param_groups:\n",
        "        param_group['lr'] = lr\n",
        "\n",
        "    for inputs, targets in train_loader:\n",
        "        inputs, targets = inputs.to(device, non_blocking=True), targets.to(device, non_blocking=True)\n",
        "        with torch.autocast(device.type, enabled=enable_half):\n",
        "            outputs = model(inputs)\n",
        "            loss = criterion(outputs, targets)\n",
        "        scaler.scale(loss).backward()\n",
        "        scaler.step(optimizer)\n",
        "        scaler.update()\n",
        "        optimizer.zero_grad()\n",
        "\n",
        "        predicted = outputs.argmax(1)\n",
        "        total += targets.size(0)\n",
        "        correct += predicted.eq(targets).sum().item()\n",
        "\n",
        "    return 100.0 * correct / total\n",
        "\n",
        "@torch.inference_mode()\n",
        "def val():\n",
        "    model.eval()\n",
        "    correct = 0\n",
        "    total = 0\n",
        "\n",
        "    for inputs, targets in test_loader:\n",
        "        inputs, targets = inputs.to(device, non_blocking=True), targets.to(device, non_blocking=True)\n",
        "        with torch.autocast(device.type, enabled=enable_half):\n",
        "            outputs = model(inputs)\n",
        "\n",
        "        predicted = outputs.argmax(1)\n",
        "        total += targets.size(0)\n",
        "        correct += predicted.eq(targets).sum().item()\n",
        "\n",
        "    return 100.0 * correct / total"
      ],
      "metadata": {
        "id": "egYpDcc2CntC"
      },
      "execution_count": 13,
      "outputs": []
    },
    {
      "cell_type": "code",
      "source": [
        "@torch.inference_mode()\n",
        "def inference():\n",
        "    model.eval()\n",
        "\n",
        "    labels = []\n",
        "\n",
        "    for inputs, _ in test_loader:\n",
        "        inputs = inputs.to(device, non_blocking=True)\n",
        "        with torch.autocast(device.type, enabled=enable_half):\n",
        "            outputs = model(inputs)\n",
        "\n",
        "        predicted = outputs.argmax(1).tolist()\n",
        "        labels.extend(predicted)\n",
        "\n",
        "    return labels\n",
        "\n",
        "best = 0.0\n",
        "epochs = list(range(10))\n",
        "with tqdm(epochs) as tbar:\n",
        "    for epoch in tbar:\n",
        "        train_acc = train(epoch)\n",
        "        val_acc = val()\n",
        "        if val_acc > best:\n",
        "            best = val_acc\n",
        "        tbar.set_description(f\"Train: {train_acc:.2f}, Val: {val_acc:.2f}, Best: {best:.2f}\")\n",
        "\n",
        "data = {\n",
        "    \"ID\": [],\n",
        "    \"target\": []\n",
        "}\n",
        "\n",
        "for i, label in enumerate(inference()):\n",
        "    data[\"ID\"].append(i)\n",
        "    data[\"target\"].append(label)\n",
        "\n",
        "df = pd.DataFrame(data)\n",
        "df.to_csv(\"submission.csv\", index=False)\n"
      ],
      "metadata": {
        "colab": {
          "base_uri": "https://localhost:8080/"
        },
        "id": "jG0K3UB7E6Ej",
        "outputId": "1d37a604-a349-4e78-cdca-93dc354aa1e8"
      },
      "execution_count": 14,
      "outputs": [
        {
          "output_type": "stream",
          "name": "stderr",
          "text": [
            "Train: 21.40, Val: 24.71, Best: 24.71: 100%|██████████| 10/10 [40:03<00:00, 240.37s/it]\n"
          ]
        }
      ]
    }
  ],
  "metadata": {
    "accelerator": "GPU",
    "colab": {
      "gpuType": "L4",
      "machine_shape": "hm",
      "provenance": []
    },
    "kernelspec": {
      "display_name": "Python 3",
      "name": "python3"
    },
    "language_info": {
      "codemirror_mode": {
        "name": "ipython",
        "version": 3
      },
      "file_extension": ".py",
      "mimetype": "text/x-python",
      "name": "python",
      "nbconvert_exporter": "python",
      "pygments_lexer": "ipython3",
      "version": "3.12.3"
    },
    "widgets": {
      "application/vnd.jupyter.widget-state+json": {
        "71883ee299304b90a571d1f77919cd49": {
          "model_module": "@jupyter-widgets/controls",
          "model_name": "HBoxModel",
          "model_module_version": "1.5.0",
          "state": {
            "_dom_classes": [],
            "_model_module": "@jupyter-widgets/controls",
            "_model_module_version": "1.5.0",
            "_model_name": "HBoxModel",
            "_view_count": null,
            "_view_module": "@jupyter-widgets/controls",
            "_view_module_version": "1.5.0",
            "_view_name": "HBoxView",
            "box_style": "",
            "children": [
              "IPY_MODEL_3e4b60fce4b041568cf30f5599969a36",
              "IPY_MODEL_99c37e7a25114e64a003e1891da8d8c9",
              "IPY_MODEL_95003c737fb145498adbd1b2876f5ecd"
            ],
            "layout": "IPY_MODEL_7da7a377018648cbbb0fd8df892bd99e"
          }
        },
        "3e4b60fce4b041568cf30f5599969a36": {
          "model_module": "@jupyter-widgets/controls",
          "model_name": "HTMLModel",
          "model_module_version": "1.5.0",
          "state": {
            "_dom_classes": [],
            "_model_module": "@jupyter-widgets/controls",
            "_model_module_version": "1.5.0",
            "_model_name": "HTMLModel",
            "_view_count": null,
            "_view_module": "@jupyter-widgets/controls",
            "_view_module_version": "1.5.0",
            "_view_name": "HTMLView",
            "description": "",
            "description_tooltip": null,
            "layout": "IPY_MODEL_ab5607fc34604b16a4d08e662ad62376",
            "placeholder": "​",
            "style": "IPY_MODEL_c4365a4ecadc4ab09d4c7a1e214bd25d",
            "value": "model.safetensors: 100%"
          }
        },
        "99c37e7a25114e64a003e1891da8d8c9": {
          "model_module": "@jupyter-widgets/controls",
          "model_name": "FloatProgressModel",
          "model_module_version": "1.5.0",
          "state": {
            "_dom_classes": [],
            "_model_module": "@jupyter-widgets/controls",
            "_model_module_version": "1.5.0",
            "_model_name": "FloatProgressModel",
            "_view_count": null,
            "_view_module": "@jupyter-widgets/controls",
            "_view_module_version": "1.5.0",
            "_view_name": "ProgressView",
            "bar_style": "success",
            "description": "",
            "description_tooltip": null,
            "layout": "IPY_MODEL_8eee0e8e658f4690ae9951adc17c4d76",
            "max": 346284714,
            "min": 0,
            "orientation": "horizontal",
            "style": "IPY_MODEL_9bd7f4b3068f45d38d42f2b4ad1cc9c2",
            "value": 346284714
          }
        },
        "95003c737fb145498adbd1b2876f5ecd": {
          "model_module": "@jupyter-widgets/controls",
          "model_name": "HTMLModel",
          "model_module_version": "1.5.0",
          "state": {
            "_dom_classes": [],
            "_model_module": "@jupyter-widgets/controls",
            "_model_module_version": "1.5.0",
            "_model_name": "HTMLModel",
            "_view_count": null,
            "_view_module": "@jupyter-widgets/controls",
            "_view_module_version": "1.5.0",
            "_view_name": "HTMLView",
            "description": "",
            "description_tooltip": null,
            "layout": "IPY_MODEL_59ee62b57cef412683d40513d31e64db",
            "placeholder": "​",
            "style": "IPY_MODEL_7215aee1b928408980e2a8e36ea6155a",
            "value": " 346M/346M [00:01&lt;00:00, 243MB/s]"
          }
        },
        "7da7a377018648cbbb0fd8df892bd99e": {
          "model_module": "@jupyter-widgets/base",
          "model_name": "LayoutModel",
          "model_module_version": "1.2.0",
          "state": {
            "_model_module": "@jupyter-widgets/base",
            "_model_module_version": "1.2.0",
            "_model_name": "LayoutModel",
            "_view_count": null,
            "_view_module": "@jupyter-widgets/base",
            "_view_module_version": "1.2.0",
            "_view_name": "LayoutView",
            "align_content": null,
            "align_items": null,
            "align_self": null,
            "border": null,
            "bottom": null,
            "display": null,
            "flex": null,
            "flex_flow": null,
            "grid_area": null,
            "grid_auto_columns": null,
            "grid_auto_flow": null,
            "grid_auto_rows": null,
            "grid_column": null,
            "grid_gap": null,
            "grid_row": null,
            "grid_template_areas": null,
            "grid_template_columns": null,
            "grid_template_rows": null,
            "height": null,
            "justify_content": null,
            "justify_items": null,
            "left": null,
            "margin": null,
            "max_height": null,
            "max_width": null,
            "min_height": null,
            "min_width": null,
            "object_fit": null,
            "object_position": null,
            "order": null,
            "overflow": null,
            "overflow_x": null,
            "overflow_y": null,
            "padding": null,
            "right": null,
            "top": null,
            "visibility": null,
            "width": null
          }
        },
        "ab5607fc34604b16a4d08e662ad62376": {
          "model_module": "@jupyter-widgets/base",
          "model_name": "LayoutModel",
          "model_module_version": "1.2.0",
          "state": {
            "_model_module": "@jupyter-widgets/base",
            "_model_module_version": "1.2.0",
            "_model_name": "LayoutModel",
            "_view_count": null,
            "_view_module": "@jupyter-widgets/base",
            "_view_module_version": "1.2.0",
            "_view_name": "LayoutView",
            "align_content": null,
            "align_items": null,
            "align_self": null,
            "border": null,
            "bottom": null,
            "display": null,
            "flex": null,
            "flex_flow": null,
            "grid_area": null,
            "grid_auto_columns": null,
            "grid_auto_flow": null,
            "grid_auto_rows": null,
            "grid_column": null,
            "grid_gap": null,
            "grid_row": null,
            "grid_template_areas": null,
            "grid_template_columns": null,
            "grid_template_rows": null,
            "height": null,
            "justify_content": null,
            "justify_items": null,
            "left": null,
            "margin": null,
            "max_height": null,
            "max_width": null,
            "min_height": null,
            "min_width": null,
            "object_fit": null,
            "object_position": null,
            "order": null,
            "overflow": null,
            "overflow_x": null,
            "overflow_y": null,
            "padding": null,
            "right": null,
            "top": null,
            "visibility": null,
            "width": null
          }
        },
        "c4365a4ecadc4ab09d4c7a1e214bd25d": {
          "model_module": "@jupyter-widgets/controls",
          "model_name": "DescriptionStyleModel",
          "model_module_version": "1.5.0",
          "state": {
            "_model_module": "@jupyter-widgets/controls",
            "_model_module_version": "1.5.0",
            "_model_name": "DescriptionStyleModel",
            "_view_count": null,
            "_view_module": "@jupyter-widgets/base",
            "_view_module_version": "1.2.0",
            "_view_name": "StyleView",
            "description_width": ""
          }
        },
        "8eee0e8e658f4690ae9951adc17c4d76": {
          "model_module": "@jupyter-widgets/base",
          "model_name": "LayoutModel",
          "model_module_version": "1.2.0",
          "state": {
            "_model_module": "@jupyter-widgets/base",
            "_model_module_version": "1.2.0",
            "_model_name": "LayoutModel",
            "_view_count": null,
            "_view_module": "@jupyter-widgets/base",
            "_view_module_version": "1.2.0",
            "_view_name": "LayoutView",
            "align_content": null,
            "align_items": null,
            "align_self": null,
            "border": null,
            "bottom": null,
            "display": null,
            "flex": null,
            "flex_flow": null,
            "grid_area": null,
            "grid_auto_columns": null,
            "grid_auto_flow": null,
            "grid_auto_rows": null,
            "grid_column": null,
            "grid_gap": null,
            "grid_row": null,
            "grid_template_areas": null,
            "grid_template_columns": null,
            "grid_template_rows": null,
            "height": null,
            "justify_content": null,
            "justify_items": null,
            "left": null,
            "margin": null,
            "max_height": null,
            "max_width": null,
            "min_height": null,
            "min_width": null,
            "object_fit": null,
            "object_position": null,
            "order": null,
            "overflow": null,
            "overflow_x": null,
            "overflow_y": null,
            "padding": null,
            "right": null,
            "top": null,
            "visibility": null,
            "width": null
          }
        },
        "9bd7f4b3068f45d38d42f2b4ad1cc9c2": {
          "model_module": "@jupyter-widgets/controls",
          "model_name": "ProgressStyleModel",
          "model_module_version": "1.5.0",
          "state": {
            "_model_module": "@jupyter-widgets/controls",
            "_model_module_version": "1.5.0",
            "_model_name": "ProgressStyleModel",
            "_view_count": null,
            "_view_module": "@jupyter-widgets/base",
            "_view_module_version": "1.2.0",
            "_view_name": "StyleView",
            "bar_color": null,
            "description_width": ""
          }
        },
        "59ee62b57cef412683d40513d31e64db": {
          "model_module": "@jupyter-widgets/base",
          "model_name": "LayoutModel",
          "model_module_version": "1.2.0",
          "state": {
            "_model_module": "@jupyter-widgets/base",
            "_model_module_version": "1.2.0",
            "_model_name": "LayoutModel",
            "_view_count": null,
            "_view_module": "@jupyter-widgets/base",
            "_view_module_version": "1.2.0",
            "_view_name": "LayoutView",
            "align_content": null,
            "align_items": null,
            "align_self": null,
            "border": null,
            "bottom": null,
            "display": null,
            "flex": null,
            "flex_flow": null,
            "grid_area": null,
            "grid_auto_columns": null,
            "grid_auto_flow": null,
            "grid_auto_rows": null,
            "grid_column": null,
            "grid_gap": null,
            "grid_row": null,
            "grid_template_areas": null,
            "grid_template_columns": null,
            "grid_template_rows": null,
            "height": null,
            "justify_content": null,
            "justify_items": null,
            "left": null,
            "margin": null,
            "max_height": null,
            "max_width": null,
            "min_height": null,
            "min_width": null,
            "object_fit": null,
            "object_position": null,
            "order": null,
            "overflow": null,
            "overflow_x": null,
            "overflow_y": null,
            "padding": null,
            "right": null,
            "top": null,
            "visibility": null,
            "width": null
          }
        },
        "7215aee1b928408980e2a8e36ea6155a": {
          "model_module": "@jupyter-widgets/controls",
          "model_name": "DescriptionStyleModel",
          "model_module_version": "1.5.0",
          "state": {
            "_model_module": "@jupyter-widgets/controls",
            "_model_module_version": "1.5.0",
            "_model_name": "DescriptionStyleModel",
            "_view_count": null,
            "_view_module": "@jupyter-widgets/base",
            "_view_module_version": "1.2.0",
            "_view_name": "StyleView",
            "description_width": ""
          }
        }
      }
    }
  },
  "nbformat": 4,
  "nbformat_minor": 0
}